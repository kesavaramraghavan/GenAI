{
 "cells": [
  {
   "cell_type": "markdown",
   "id": "800a8294",
   "metadata": {},
   "source": [
    "### NUMPY"
   ]
  },
  {
   "cell_type": "markdown",
   "id": "ad66c5f1",
   "metadata": {},
   "source": [
    "NumPy is that secret power behind fast data math in AI — doing in seconds what would take you endless loops otherwise. ⚡\n",
    "\n",
    "Later we compare Numpy vs JAX in Future Projects and also sugegst which is best at what stage."
   ]
  },
  {
   "cell_type": "markdown",
   "id": "18966326",
   "metadata": {},
   "source": [
    "**Numpy Arrays**"
   ]
  },
  {
   "cell_type": "code",
   "execution_count": 1,
   "id": "b9e4dfa2",
   "metadata": {},
   "outputs": [
    {
     "name": "stdout",
     "output_type": "stream",
     "text": [
      "[1, 2, 3, 4, 5, 1, 2, 3, 4, 5]\n",
      "[ 2  4  6  8 10]\n"
     ]
    }
   ],
   "source": [
    "import numpy as np\n",
    "\n",
    "numbers = [1, 2, 3, 4, 5]   # Python list\n",
    "arr = np.array([1, 2, 3, 4, 5])  # NumPy array\n",
    "\n",
    "print(numbers * 2)   # [1,2,3,4,5,1,2,3,4,5]\n",
    "print(arr * 2)       # [ 2  4  6  8 10 ]"
   ]
  },
  {
   "cell_type": "markdown",
   "id": "6a06e6df",
   "metadata": {},
   "source": [
    "**Statistics**"
   ]
  },
  {
   "cell_type": "code",
   "execution_count": 13,
   "id": "d86f2af8",
   "metadata": {},
   "outputs": [
    {
     "name": "stdout",
     "output_type": "stream",
     "text": [
      "Mean: 28.0\n",
      "Median: 20.0\n",
      "Variance: 216.0\n",
      "Std Dev: 14.696938456699069\n",
      "Min: 10\n",
      "Max: 50\n",
      "Percentile (50th): 20.0\n"
     ]
    }
   ],
   "source": [
    "data = np.array([10, 20, 20, 40, 50])\n",
    "\n",
    "print(\"Mean:\", np.mean(data))\n",
    "print(\"Median:\", np.median(data))\n",
    "print(\"Variance:\", np.var(data))\n",
    "print(\"Std Dev:\", np.std(data))\n",
    "print(\"Min:\", np.min(data))\n",
    "print(\"Max:\", np.max(data))\n",
    "print(\"Percentile (50th):\", np.percentile(data, 50))"
   ]
  },
  {
   "cell_type": "code",
   "execution_count": 2,
   "id": "46a42873",
   "metadata": {},
   "outputs": [
    {
     "name": "stdout",
     "output_type": "stream",
     "text": [
      "Mean: 31.142857142857142\n",
      "Standard deviation: 2.2314999074019015\n",
      "Max: 35\n"
     ]
    }
   ],
   "source": [
    "temps = np.array([30, 32, 29, 28, 35, 33, 31])\n",
    "\n",
    "print(\"Mean:\", np.mean(temps))\n",
    "print(\"Standard deviation:\", np.std(temps))\n",
    "print(\"Max:\", np.max(temps))"
   ]
  },
  {
   "cell_type": "markdown",
   "id": "e5f25a99",
   "metadata": {},
   "source": [
    "**Incase if you ever want to round the value if you feel its too many decimal point's use round same as Excel**"
   ]
  },
  {
   "cell_type": "code",
   "execution_count": 3,
   "id": "30823c79",
   "metadata": {},
   "outputs": [
    {
     "name": "stdout",
     "output_type": "stream",
     "text": [
      "Mean: 31.14\n",
      "Standard deviation: 2.231\n"
     ]
    }
   ],
   "source": [
    "print(\"Mean:\", round(np.mean(temps), 2)) #2 decimal point\n",
    "print(\"Standard deviation:\", round(np.std(temps), 3)) #3 decimal point"
   ]
  },
  {
   "cell_type": "markdown",
   "id": "cd8547a8",
   "metadata": {},
   "source": [
    "**Below is the Creating Arrays using Numpy.**"
   ]
  },
  {
   "cell_type": "code",
   "execution_count": 7,
   "id": "e823cfed",
   "metadata": {},
   "outputs": [
    {
     "name": "stdout",
     "output_type": "stream",
     "text": [
      "Example 1 \n",
      " [1 2 3] \n",
      "\n",
      "Example 2 \n",
      " [[1 2 3]\n",
      " [4 5 6]] \n",
      "\n",
      "Example 3 \n",
      "\n",
      "[[0. 0. 0.]\n",
      " [0. 0. 0.]]\n",
      "[[1. 1. 1.]\n",
      " [1. 1. 1.]\n",
      " [1. 1. 1.]]\n",
      "[[1. 0. 0. 0.]\n",
      " [0. 1. 0. 0.]\n",
      " [0. 0. 1. 0.]\n",
      " [0. 0. 0. 1.]]\n",
      "[0 2 4 6 8]\n",
      "[0.   0.25 0.5  0.75 1.  ]\n"
     ]
    }
   ],
   "source": [
    "my_list = [1, 2, 3] # From list\n",
    "arr = np.array(my_list)\n",
    "print('Example 1 \\n',arr, '\\n')\n",
    "\n",
    "\n",
    "# 2D array\n",
    "mat = np.array([[1, 2, 3], [4, 5, 6]])\n",
    "print('Example 2 \\n',mat, '\\n')\n",
    "\n",
    "# Predefined arrays\n",
    "zeros = np.zeros((2,3))\n",
    "ones = np.ones((3,3))\n",
    "identity = np.eye(4)\n",
    "arange = np.arange(0, 10, 2)\n",
    "linspace = np.linspace(0, 1, 5)\n",
    "\n",
    "print('Example 3 \\n',zeros, ones, identity, arange, linspace, sep=\"\\n\")"
   ]
  },
  {
   "cell_type": "markdown",
   "id": "779a325a",
   "metadata": {},
   "source": [
    "**In case if you wonder what '\\n' means it makes the python to move to next line. Below are the several example's with code.**\n",
    "\n",
    "1) Common Escape Sequences in Python"
   ]
  },
  {
   "cell_type": "code",
   "execution_count": 9,
   "id": "61de969d",
   "metadata": {},
   "outputs": [
    {
     "name": "stdout",
     "output_type": "stream",
     "text": [
      "Hello\n",
      "World\n",
      "\n",
      "Name\tAge\n",
      "Alice\t25\n",
      "\n",
      "This is a backslash: \\\n",
      "\n",
      "It's a sunny day\n",
      "\n",
      "She said: \"Hello!\"\n",
      "\n",
      "\u0007\n",
      "\n",
      "World\n",
      "\n",
      "HellWorld\n",
      "\n",
      "Hello\fWorld\n",
      "\n"
     ]
    }
   ],
   "source": [
    "# Newline\n",
    "print(\"Hello\\nWorld\\n\")\n",
    "# Output:\n",
    "# Hello\n",
    "# World\n",
    "\n",
    "# Tab (adds spaces like a table column)\n",
    "print(\"Name\\tAge\")\n",
    "print(\"Alice\\t25\\n\")\n",
    "# Output:\n",
    "# Name    Age\n",
    "# Alice   25\n",
    "\n",
    "# Backslash\n",
    "print(\"This is a backslash: \\\\\\n\")\n",
    "# Output: This is a backslash: \\\n",
    "\n",
    "# Single quote\n",
    "print('It\\'s a sunny day\\n')\n",
    "# Output: It's a sunny day\n",
    "\n",
    "# Double quote\n",
    "print(\"She said: \\\"Hello!\\\"\\n\")\n",
    "# Output: She said: \"Hello!\"\n",
    "\n",
    "# Bell (makes a beep sound in some terminals)\n",
    "print(\"\\a\\n\")\n",
    "\n",
    "# Carriage return (moves cursor to line start, overwrites)\n",
    "print(\"Hello\\rWorld\\n\")\n",
    "# Output: World\n",
    "\n",
    "# Backspace (removes one char)\n",
    "print(\"Hello\\bWorld\\n\")\n",
    "# Output: HellWorld\n",
    "\n",
    "# Form feed (rare; moves to new \"page\")\n",
    "print(\"Hello\\fWorld\\n\")"
   ]
  },
  {
   "cell_type": "code",
   "execution_count": 10,
   "id": "0fafccef",
   "metadata": {},
   "outputs": [
    {
     "name": "stdout",
     "output_type": "stream",
     "text": [
      "Line1\n",
      "Line2\n",
      "Line3\n",
      "Item\tQuantity\tPrice\n",
      "Apple\t2\t\t$3\n",
      "Banana\t5\t\t$2\n",
      "Step1:\n",
      "\t- Do this\n",
      "\t- Then do that\n",
      "C:\\Users\\Kesav\\Documents\\file.txt\n"
     ]
    }
   ],
   "source": [
    "# 1. Formatting Strings with Escape Sequences\n",
    "\n",
    "# Multi-line string with \\n\n",
    "print(\"Line1\\nLine2\\nLine3\")\n",
    "\n",
    "# Create a table\n",
    "print(\"Item\\tQuantity\\tPrice\")\n",
    "print(\"Apple\\t2\\t\\t$3\")\n",
    "print(\"Banana\\t5\\t\\t$2\")\n",
    "\n",
    "# Indentation\n",
    "print(\"Step1:\\n\\t- Do this\\n\\t- Then do that\")\n",
    "\n",
    "# 2. Raw Strings (ignore escape sequences)\n",
    "#Sometimes you want to ignore escape rules (like Windows paths). Use r\"\":\n",
    "\n",
    "print(r\"C:\\Users\\Kesav\\Documents\\file.txt\")\n",
    "# Output: C:\\Users\\Kesav\\Documents\\file.txt\n",
    "\n"
   ]
  },
  {
   "cell_type": "markdown",
   "id": "93aeebd2",
   "metadata": {},
   "source": [
    "**Now lets come back to numpy features**"
   ]
  },
  {
   "cell_type": "markdown",
   "id": "7c3cf76d",
   "metadata": {},
   "source": [
    "Array Operations"
   ]
  },
  {
   "cell_type": "code",
   "execution_count": 11,
   "id": "5b20688e",
   "metadata": {},
   "outputs": [
    {
     "name": "stdout",
     "output_type": "stream",
     "text": [
      "Add: [11 22 33]\n",
      "Subtract: [ 9 18 27]\n",
      "Multiply: [10 40 90]\n",
      "Divide: [10. 10. 10.]\n",
      "Power: [100 400 900]\n"
     ]
    }
   ],
   "source": [
    "a = np.array([10, 20, 30])\n",
    "b = np.array([1, 2, 3])\n",
    "\n",
    "print(\"Add:\", a + b)\n",
    "print(\"Subtract:\", a - b)\n",
    "print(\"Multiply:\", a * b)\n",
    "print(\"Divide:\", a / b)\n",
    "print(\"Power:\", a ** 2)\n"
   ]
  },
  {
   "cell_type": "markdown",
   "id": "082a7de6",
   "metadata": {},
   "source": [
    "Math Functions"
   ]
  },
  {
   "cell_type": "code",
   "execution_count": null,
   "id": "c113dded",
   "metadata": {},
   "outputs": [
    {
     "name": "stdout",
     "output_type": "stream",
     "text": [
      "Ceil: [ 2.  3. -3.]\n",
      "Floor: [ 1.  2. -4.]\n",
      "Round: [ 1.2  2.7 -3.8]\n",
      "Abs: [1.2 2.7 3.8]\n",
      "Sqrt: [1. 2. 3.]\n",
      "Exp: [ 2.71828183  7.3890561  20.08553692]\n",
      "Log: [0. 1. 2.]\n"
     ]
    }
   ],
   "source": [
    "x = np.array([1.2, 2.7, -3.8])\n",
    "\n",
    "print(\"Ceil:\", np.ceil(x))   # round up to nearest integer\n",
    "print(\"Floor:\", np.floor(x)) # round down to nearest integer\n",
    "print(\"Round:\", np.round(x, 2))\n",
    "print(\"Abs:\", np.abs(x))\n",
    "print(\"Sqrt:\", np.sqrt([1,4,9]))\n",
    "print(\"Exp:\", np.exp([1,2,3]))\n",
    "print(\"Log:\", np.log([1, np.e, np.e**2]))\n"
   ]
  },
  {
   "cell_type": "markdown",
   "id": "78e3b98f",
   "metadata": {},
   "source": [
    "np.ceil() -> Round up to nearest integer\n",
    "- Why needed? Used in billing, logistics, or packaging. Example: If shipping cost is charged per kg, and weight = 2.2 kg, ceil → 3 kg charge.\n",
    "\n",
    "np.floor() → Round down to nearest integer\n",
    "- Why needed? For discounts or ticket pricing where you always take the lower bound. Example: If a kid’s age = 12.9, floor → 12 (child ticket).\n",
    "\n",
    "np.round() → Round to chosen decimal places\n",
    "- Why needed? Useful for displaying clean results (currency, percentages). Example: Showing stock price as $123.45 instead of $123.456789.\n",
    "\n",
    "np.abs() → Absolute value (remove sign)\n",
    "- Why needed? In distance calculations, errors, or loss functions in ML. Example: Distance between two GPS points must always be positive.\n",
    "\n",
    "np.sqrt() → Square root\n",
    "- Why needed? Used in geometry (finding side length), physics, and ML (Euclidean distance). Example: Distance between (3,4) and (0,0) = √(3²+4²) = 5.\n",
    "\n",
    "np.exp() → Exponential function eˣ\n",
    "- Why needed? Growth models (population, compound interest), probability (softmax in ML). Example: Bank account balance growth under continuous compounding.\n",
    "\n",
    "np.log() → Natural logarithm\n",
    "- Why needed? Inverse of exp(). Used in data transformation (reduce skewness), ML (log-loss). Example: Earthquake Richter scale uses log to compress big ranges of values.\n",
    "\n",
    "🎯 Key Takeaway\n",
    "\n",
    "Ceil/Floor/Round → control numbers for billing, pricing, and display.\n",
    "\n",
    "Abs/Sqrt → handle distances, magnitudes, error metrics.\n",
    "\n",
    "Exp/Log → model growth, probabilities, and compress large scales.\n",
    "\n",
    "👉 These are not just math tricks - they’re the building blocks of ML & AI math (distances, optimizers, loss functions, transformations). Will be covered later."
   ]
  },
  {
   "cell_type": "markdown",
   "id": "b00a01fe",
   "metadata": {},
   "source": [
    "Indexing & Slicing"
   ]
  },
  {
   "cell_type": "code",
   "execution_count": null,
   "id": "fbe0e3e0",
   "metadata": {},
   "outputs": [
    {
     "name": "stdout",
     "output_type": "stream",
     "text": [
      "10\n",
      "50\n",
      "[20 30 40]\n",
      "[50 40 30 20 10]\n"
     ]
    }
   ],
   "source": [
    "arr = np.array([10,20,30,40,50])\n",
    "\n",
    "print(arr[0])     # first element -> In python always index starts with 0\n",
    "print(arr[-1])    # last element\n",
    "print(arr[1:4])   # slice here 1:4 means it starts at index 1 until index before 4 \n",
    "print(arr[::-1])  # reverse"
   ]
  },
  {
   "cell_type": "markdown",
   "id": "e6484005",
   "metadata": {},
   "source": [
    "Boolean Masking"
   ]
  },
  {
   "cell_type": "code",
   "execution_count": null,
   "id": "028f7e31",
   "metadata": {},
   "outputs": [
    {
     "name": "stdout",
     "output_type": "stream",
     "text": [
      "[20 25]\n"
     ]
    }
   ],
   "source": [
    "arr = np.array([5,10,15,20,25])\n",
    "mask = arr > 15\n",
    "print(arr[mask])   # [20 25] True or False if true takes that value"
   ]
  },
  {
   "cell_type": "markdown",
   "id": "5ff2a1a4",
   "metadata": {},
   "source": [
    "Reshape & Flatten"
   ]
  },
  {
   "cell_type": "code",
   "execution_count": 19,
   "id": "0c78e34d",
   "metadata": {},
   "outputs": [
    {
     "name": "stdout",
     "output_type": "stream",
     "text": [
      "[[ 0  1  2  3]\n",
      " [ 4  5  6  7]\n",
      " [ 8  9 10 11]]\n",
      "[[ 0  1  2  3  4  5]\n",
      " [ 6  7  8  9 10 11]]\n",
      "[ 0  1  2  3  4  5  6  7  8  9 10 11]\n"
     ]
    }
   ],
   "source": [
    "arr = np.arange(12)   # 0..11\n",
    "print(arr.reshape(3,4))\n",
    "print(arr.reshape(2, -1))   # auto-infer cols\n",
    "print(arr.flatten())"
   ]
  },
  {
   "cell_type": "markdown",
   "id": "9e1112da",
   "metadata": {},
   "source": [
    "Combining & Splitting"
   ]
  },
  {
   "cell_type": "code",
   "execution_count": 20,
   "id": "8f119716",
   "metadata": {},
   "outputs": [
    {
     "name": "stdout",
     "output_type": "stream",
     "text": [
      "[1 2 3 4 5 6]\n",
      "[[1 2 3]\n",
      " [4 5 6]]\n",
      "[1 2 3 4 5 6]\n",
      "[array([[0, 1, 2, 3],\n",
      "       [4, 5, 6, 7]]), array([[ 8,  9, 10, 11],\n",
      "       [12, 13, 14, 15]])]\n"
     ]
    }
   ],
   "source": [
    "a = np.array([1,2,3])\n",
    "b = np.array([4,5,6])\n",
    "\n",
    "print(np.concatenate([a,b]))\n",
    "print(np.vstack([a,b]))   # vertical stack\n",
    "print(np.hstack([a,b]))   # horizontal stack\n",
    "\n",
    "c = np.arange(16).reshape(4,4)\n",
    "print(np.split(c, 2))   # split into 2\n"
   ]
  },
  {
   "cell_type": "markdown",
   "id": "c787b8b9",
   "metadata": {},
   "source": [
    "Random Numbers"
   ]
  },
  {
   "cell_type": "code",
   "execution_count": 21,
   "id": "2f411a30",
   "metadata": {},
   "outputs": [
    {
     "name": "stdout",
     "output_type": "stream",
     "text": [
      "Rand: [0.14752364 0.9881461  0.15263713]\n",
      "Randn: [-0.43424119  0.74721435  0.08982353]\n",
      "Randint: [9 4 2 1 7]\n",
      "Choice: [30 20 10]\n",
      "Shuffle:\n",
      "[8 3 4 9 6 2 7 1 5 0]\n"
     ]
    }
   ],
   "source": [
    "print(\"Rand:\", np.random.rand(3))         # [0,1)\n",
    "print(\"Randn:\", np.random.randn(3))       # normal distribution\n",
    "print(\"Randint:\", np.random.randint(1,10,5))\n",
    "print(\"Choice:\", np.random.choice([10,20,30], size=3))\n",
    "print(\"Shuffle:\")\n",
    "arr = np.arange(10)\n",
    "np.random.shuffle(arr)\n",
    "print(arr)"
   ]
  },
  {
   "cell_type": "markdown",
   "id": "3a88e1b5",
   "metadata": {},
   "source": [
    "Linear Algebra (Advanced)"
   ]
  },
  {
   "cell_type": "code",
   "execution_count": 25,
   "id": "7d622265",
   "metadata": {},
   "outputs": [
    {
     "name": "stdout",
     "output_type": "stream",
     "text": [
      "Dot:\n",
      " [[19 22]\n",
      " [43 50]] \n",
      "\n",
      "Transpose:\n",
      " [[1 3]\n",
      " [2 4]] \n",
      "\n",
      "Inverse:\n",
      " [[-2.   1. ]\n",
      " [ 1.5 -0.5]] \n",
      "\n",
      "Determinant:\n",
      " -2.0000000000000004 \n",
      "\n",
      "Eigenvalues:\n",
      " EigResult(eigenvalues=array([-0.37228132,  5.37228132]), eigenvectors=array([[-0.82456484, -0.41597356],\n",
      "       [ 0.56576746, -0.90937671]])) \n",
      "\n",
      "Solve Ax=b:\n",
      " [0.  0.5]\n"
     ]
    }
   ],
   "source": [
    "A = np.array([[1,2],[3,4]])\n",
    "B = np.array([[5,6],[7,8]])\n",
    "\n",
    "print(\"Dot:\\n\", A.dot(B),'\\n')\n",
    "print(\"Transpose:\\n\", A.T,'\\n')\n",
    "print(\"Inverse:\\n\", np.linalg.inv(A),'\\n')\n",
    "print(\"Determinant:\\n\", np.linalg.det(A),'\\n')\n",
    "print(\"Eigenvalues:\\n\", np.linalg.eig(A),'\\n')\n",
    "print(\"Solve Ax=b:\\n\", np.linalg.solve(A, np.array([1,2])))"
   ]
  },
  {
   "cell_type": "markdown",
   "id": "b30406f3",
   "metadata": {},
   "source": [
    "Dot product (A.dot(B)) → Finds similarity or alignment; used in search, recommendations, physics forces.\n",
    "\n",
    "Transpose (A.T) → Flips rows to columns; makes calculations easier in many formulas.\n",
    "\n",
    "Inverse (np.linalg.inv(A)) → Undoes a transformation, like reversing an operation or decrypting data.\n",
    "\n",
    "Determinant (np.linalg.det(A)) → Checks if equations have solutions; used in geometry and 3D shapes.\n",
    "\n",
    "Eigenvalues (np.linalg.eig(A)) → Show main directions of data; used in face recognition and compression.\n",
    "\n",
    "Solve Ax=b (np.linalg.solve) → Solves multiple equations at once; useful in engineering and economics."
   ]
  },
  {
   "cell_type": "markdown",
   "id": "3b350f13",
   "metadata": {},
   "source": [
    "Advanced Tricks"
   ]
  },
  {
   "cell_type": "code",
   "execution_count": 26,
   "id": "8ed0cd81",
   "metadata": {},
   "outputs": [
    {
     "name": "stdout",
     "output_type": "stream",
     "text": [
      "Cumsum: [ 1  3  6 10 15 21 28 36 45 55]\n",
      "Cumprod: [      1       2       6      24     120     720    5040   40320  362880\n",
      " 3628800]\n",
      "Unique: [1 2 3 4]\n",
      "Clip: [3 3 3 4 5 6 7 7 7 7]\n",
      "Where >5: ['small' 'small' 'small' 'small' 'small' 'big' 'big' 'big' 'big' 'big']\n"
     ]
    }
   ],
   "source": [
    "arr = np.arange(1,11)\n",
    "\n",
    "# Cumulative sum\n",
    "print(\"Cumsum:\", np.cumsum(arr))\n",
    "\n",
    "# Cumulative product\n",
    "print(\"Cumprod:\", np.cumprod(arr))\n",
    "\n",
    "# Unique values\n",
    "dup = np.array([1,1,2,3,3,4])\n",
    "print(\"Unique:\", np.unique(dup))\n",
    "\n",
    "# Clip values\n",
    "print(\"Clip:\", np.clip(arr, 3, 7))\n",
    "\n",
    "# Where condition\n",
    "print(\"Where >5:\", np.where(arr > 5, \"big\", \"small\"))\n"
   ]
  },
  {
   "cell_type": "markdown",
   "id": "864331d6",
   "metadata": {},
   "source": [
    "Broadcasting"
   ]
  },
  {
   "cell_type": "code",
   "execution_count": 27,
   "id": "749e31c8",
   "metadata": {},
   "outputs": [
    {
     "name": "stdout",
     "output_type": "stream",
     "text": [
      "[[11 22 33]\n",
      " [14 25 36]]\n"
     ]
    }
   ],
   "source": [
    "A = np.array([[1,2,3],[4,5,6]])\n",
    "B = np.array([10,20,30])\n",
    "print(A + B)  # B applies to each row"
   ]
  },
  {
   "cell_type": "markdown",
   "id": "f2412159",
   "metadata": {},
   "source": [
    "Advanced Indexing"
   ]
  },
  {
   "cell_type": "code",
   "execution_count": 29,
   "id": "3765688c",
   "metadata": {},
   "outputs": [
    {
     "name": "stdout",
     "output_type": "stream",
     "text": [
      "[10 30 50]\n"
     ]
    }
   ],
   "source": [
    "arr = np.array([10,20,30,40,50])\n",
    "indices = [0,2,4]\n",
    "print(arr[indices])   # [10 30 50]"
   ]
  },
  {
   "cell_type": "markdown",
   "id": "ad66f992",
   "metadata": {},
   "source": [
    "Memory & Efficiency"
   ]
  },
  {
   "cell_type": "code",
   "execution_count": 30,
   "id": "71a27853",
   "metadata": {},
   "outputs": [
    {
     "name": "stdout",
     "output_type": "stream",
     "text": [
      "Size in bytes: 8000000\n",
      "Sum (NumPy): 499999500000.0\n"
     ]
    }
   ],
   "source": [
    "arr = np.arange(1e6)\n",
    "print(\"Size in bytes:\", arr.nbytes)\n",
    "\n",
    "# Vectorized vs loop\n",
    "print(\"Sum (NumPy):\", np.sum(arr))"
   ]
  },
  {
   "cell_type": "markdown",
   "id": "c41b6526",
   "metadata": {},
   "source": [
    "### PANDAS"
   ]
  },
  {
   "cell_type": "markdown",
   "id": "15acb4c1",
   "metadata": {},
   "source": [
    "🐼 Pandas: The Data Playground\n",
    "\n",
    "Pandas is the Python library that turns messy tables into clean, queryable, manipulable data structures. Think of it like giving your data superpowers.\n",
    "\n",
    "Here’s everything from beginner → advanced, with real examples you can run and teach."
   ]
  },
  {
   "cell_type": "markdown",
   "id": "51eb0ca5",
   "metadata": {},
   "source": [
    "1. Pandas Basics: Series & DataFrame"
   ]
  },
  {
   "cell_type": "code",
   "execution_count": 31,
   "id": "72627c22",
   "metadata": {},
   "outputs": [
    {
     "name": "stdout",
     "output_type": "stream",
     "text": [
      "Series:\n",
      " a    10.0\n",
      "b    20.0\n",
      "c    30.0\n",
      "d     NaN\n",
      "e    50.0\n",
      "dtype: float64\n",
      "\n",
      "DataFrame:\n",
      "       Name  Age  Score\n",
      "0    Alice   25   88.0\n",
      "1      Bob   30   92.0\n",
      "2  Charlie   35   85.0\n",
      "3    David   40    NaN\n"
     ]
    }
   ],
   "source": [
    "import pandas as pd\n",
    "import numpy as np\n",
    "\n",
    "# Series: one column with index\n",
    "s = pd.Series([10, 20, 30, np.nan, 50], index=[\"a\",\"b\",\"c\",\"d\",\"e\"])\n",
    "print(\"Series:\\n\", s)\n",
    "\n",
    "# DataFrame from dict\n",
    "df = pd.DataFrame({\n",
    "    \"Name\": [\"Alice\",\"Bob\",\"Charlie\",\"David\"],\n",
    "    \"Age\": [25, 30, 35, 40],\n",
    "    \"Score\": [88, 92, 85, np.nan]\n",
    "})\n",
    "print(\"\\nDataFrame:\\n\", df)"
   ]
  },
  {
   "cell_type": "markdown",
   "id": "43422836",
   "metadata": {},
   "source": [
    "Why it matters:\n",
    "\n",
    "- A Series is like one column (with labels).\n",
    "\n",
    "- A DataFrame is your table with rows, columns, named axes."
   ]
  },
  {
   "cell_type": "markdown",
   "id": "563f9428",
   "metadata": {},
   "source": [
    "2. Inspecting & Understanding Data"
   ]
  },
  {
   "cell_type": "code",
   "execution_count": 32,
   "id": "00734c2d",
   "metadata": {},
   "outputs": [
    {
     "name": "stdout",
     "output_type": "stream",
     "text": [
      "      Name  Age  Score\n",
      "0    Alice   25   88.0\n",
      "1      Bob   30   92.0\n",
      "2  Charlie   35   85.0\n",
      "      Name  Age  Score\n",
      "2  Charlie   35   85.0\n",
      "3    David   40    NaN\n",
      "<class 'pandas.core.frame.DataFrame'>\n",
      "RangeIndex: 4 entries, 0 to 3\n",
      "Data columns (total 3 columns):\n",
      " #   Column  Non-Null Count  Dtype  \n",
      "---  ------  --------------  -----  \n",
      " 0   Name    4 non-null      object \n",
      " 1   Age     4 non-null      int64  \n",
      " 2   Score   3 non-null      float64\n",
      "dtypes: float64(1), int64(1), object(1)\n",
      "memory usage: 228.0+ bytes\n",
      "None\n",
      "             Age      Score\n",
      "count   4.000000   3.000000\n",
      "mean   32.500000  88.333333\n",
      "std     6.454972   3.511885\n",
      "min    25.000000  85.000000\n",
      "25%    28.750000  86.500000\n",
      "50%    32.500000  88.000000\n",
      "75%    36.250000  90.000000\n",
      "max    40.000000  92.000000\n",
      "88.33333333333333\n"
     ]
    }
   ],
   "source": [
    "print(df.head(3))       # first 3 rows  \n",
    "print(df.tail(2))       # last 2 rows  \n",
    "print(df.info())        # schema, null counts  \n",
    "print(df.describe())    # summary stats  \n",
    "print(df[\"Score\"].mean())  # mean of one column"
   ]
  },
  {
   "cell_type": "markdown",
   "id": "40e5e37e",
   "metadata": {},
   "source": [
    "Why this matters: Before you do anything, you need to know what your data looks like — types, missing values, ranges."
   ]
  },
  {
   "cell_type": "markdown",
   "id": "c65fa5de",
   "metadata": {},
   "source": [
    "3. Selecting & Filtering"
   ]
  },
  {
   "cell_type": "code",
   "execution_count": 33,
   "id": "9f121db3",
   "metadata": {},
   "outputs": [
    {
     "name": "stdout",
     "output_type": "stream",
     "text": [
      "High scorers:\n",
      "   Name  Age  Score\n",
      "1  Bob   30   92.0\n",
      "Good ones:\n",
      "   Name  Age  Score\n",
      "1  Bob   30   92.0\n"
     ]
    }
   ],
   "source": [
    "# Select column(s)\n",
    "ages = df[\"Age\"]\n",
    "subset = df[[\"Name\", \"Score\"]]\n",
    "\n",
    "# Filter by condition\n",
    "high = df[df[\"Score\"] > 90]\n",
    "print(\"High scorers:\\n\", high)\n",
    "\n",
    "# Multiple conditions\n",
    "good = df[(df[\"Age\"] > 28) & (df[\"Score\"] > 90)]\n",
    "print(\"Good ones:\\n\", good)\n"
   ]
  },
  {
   "cell_type": "markdown",
   "id": "6d96a98c",
   "metadata": {},
   "source": [
    "Why: You often want just certain rows or columns — like students > 30 years old or where score > threshold. Think of this like a filter condition"
   ]
  },
  {
   "cell_type": "markdown",
   "id": "94e90e71",
   "metadata": {},
   "source": [
    "4. Missing Values & Duplicates"
   ]
  },
  {
   "cell_type": "code",
   "execution_count": 35,
   "id": "d8b1ff6f",
   "metadata": {},
   "outputs": [
    {
     "name": "stdout",
     "output_type": "stream",
     "text": [
      "With duplicate:\n",
      "       Name  Age  Score\n",
      "0    Alice   25   88.0\n",
      "1      Bob   30   92.0\n",
      "2  Charlie   35   85.0\n",
      "3    David   40    NaN\n",
      "4    Alice   25   88.0\n",
      "\n",
      "After drop_duplicates:\n",
      "       Name  Age  Score\n",
      "0    Alice   25   88.0\n",
      "1      Bob   30   92.0\n",
      "2  Charlie   35   85.0\n",
      "3    David   40    NaN\n",
      "\n",
      "After fillna:\n",
      "       Name  Age      Score\n",
      "0    Alice   25  88.000000\n",
      "1      Bob   30  92.000000\n",
      "2  Charlie   35  85.000000\n",
      "3    David   40  88.333333\n"
     ]
    }
   ],
   "source": [
    "df2 = df.copy()\n",
    "# Mark a duplicate\n",
    "df2 = pd.concat([df2, df2.iloc[[0]]], ignore_index=True)\n",
    "print(\"With duplicate:\\n\", df2)\n",
    "\n",
    "# Drop duplicates\n",
    "df2 = df2.drop_duplicates()\n",
    "print(\"\\nAfter drop_duplicates:\\n\", df2)\n",
    "\n",
    "# Fill missing with mean\n",
    "df2[\"Score\"] = df2[\"Score\"].fillna(df2[\"Score\"].mean())\n",
    "print(\"\\nAfter fillna:\\n\", df2)\n"
   ]
  },
  {
   "cell_type": "markdown",
   "id": "3f9f1f54",
   "metadata": {},
   "source": [
    "Why: Real data almost always has missing or repeated entries. If you don’t handle them, your models will suffer."
   ]
  },
  {
   "cell_type": "markdown",
   "id": "6a0d1112",
   "metadata": {},
   "source": [
    "5. Adding / Transforming Columns"
   ]
  },
  {
   "cell_type": "code",
   "execution_count": 36,
   "id": "8c7e9ab7",
   "metadata": {},
   "outputs": [
    {
     "name": "stdout",
     "output_type": "stream",
     "text": [
      "      Name  Age  Score  Passed  Score_adj Age_group\n",
      "0    Alice   25   88.0   False       96.8     Young\n",
      "1      Bob   30   92.0    True      101.2     Young\n",
      "2  Charlie   35   85.0   False       93.5       Mid\n",
      "3    David   40    NaN   False        NaN       Mid\n"
     ]
    }
   ],
   "source": [
    "df[\"Passed\"] = df[\"Score\"].apply(lambda x: x >= 90 if pd.notnull(x) else False)\n",
    "df[\"Score_adj\"] = df[\"Score\"] * 1.1\n",
    "df[\"Age_group\"] = pd.cut(df[\"Age\"], bins=[0, 30, 40, 100], labels=[\"Young\",\"Mid\",\"Senior\"])\n",
    "print(df)"
   ]
  },
  {
   "cell_type": "markdown",
   "id": "f301eb21",
   "metadata": {},
   "source": [
    "Why: You often need derived features — pass/fail, adjusted scores, age categories — before feeding to models."
   ]
  },
  {
   "cell_type": "markdown",
   "id": "80f7ead3",
   "metadata": {},
   "source": [
    "6. Merging, Joining, Concatenating"
   ]
  },
  {
   "cell_type": "code",
   "execution_count": 37,
   "id": "45ae254b",
   "metadata": {},
   "outputs": [
    {
     "name": "stdout",
     "output_type": "stream",
     "text": [
      "Merged (inner):\n",
      "    id     name  score\n",
      "0   2      Bob     90\n",
      "1   3  Charlie     85\n",
      "\n",
      "Merged (outer):\n",
      "    id     name  score\n",
      "0   1    Alice    NaN\n",
      "1   2      Bob   90.0\n",
      "2   3  Charlie   85.0\n",
      "3   4      NaN   88.0\n",
      "\n",
      "Concatenated rows:\n",
      "    id     name\n",
      "0   1    Alice\n",
      "1   2      Bob\n",
      "2   3  Charlie\n",
      "3   1    Alice\n",
      "4   2      Bob\n",
      "5   3  Charlie\n"
     ]
    }
   ],
   "source": [
    "df1 = pd.DataFrame({\"id\":[1,2,3], \"name\":[\"Alice\",\"Bob\",\"Charlie\"]})\n",
    "df2 = pd.DataFrame({\"id\":[2,3,4], \"score\":[90,85,88]})\n",
    "\n",
    "merged = pd.merge(df1, df2, on=\"id\", how=\"inner\")\n",
    "print(\"Merged (inner):\\n\", merged)\n",
    "\n",
    "outer = pd.merge(df1, df2, on=\"id\", how=\"outer\")\n",
    "print(\"\\nMerged (outer):\\n\", outer)\n",
    "\n",
    "# Concatenate rows\n",
    "df_all = pd.concat([df1, df1], ignore_index=True)\n",
    "print(\"\\nConcatenated rows:\\n\", df_all)\n"
   ]
  },
  {
   "cell_type": "markdown",
   "id": "b097dfc1",
   "metadata": {},
   "source": [
    "Why: Real projects often combine datasets (customer info + purchase data, etc.). You need to join them intelligently."
   ]
  },
  {
   "cell_type": "markdown",
   "id": "e0968a18",
   "metadata": {},
   "source": [
    "7. Reshaping & Pivot / Melt"
   ]
  },
  {
   "cell_type": "code",
   "execution_count": 38,
   "id": "20dc48a1",
   "metadata": {},
   "outputs": [
    {
     "name": "stdout",
     "output_type": "stream",
     "text": [
      "Pivoted:\n",
      " subject  Math  Sci\n",
      "student           \n",
      "A          90   85\n",
      "B          78   88\n",
      "\n",
      "Melted:\n",
      "   student subject  score\n",
      "0       A    Math     90\n",
      "1       B    Math     78\n",
      "2       A     Sci     85\n",
      "3       B     Sci     88\n"
     ]
    }
   ],
   "source": [
    "# Example dataset\n",
    "grades = pd.DataFrame({\n",
    "    \"student\": [\"A\",\"A\",\"B\",\"B\"],\n",
    "    \"subject\": [\"Math\",\"Sci\",\"Math\",\"Sci\"],\n",
    "    \"score\": [90, 85, 78, 88]\n",
    "})\n",
    "\n",
    "pivot = grades.pivot(index=\"student\", columns=\"subject\", values=\"score\")\n",
    "print(\"Pivoted:\\n\", pivot)\n",
    "\n",
    "melted = pivot.reset_index().melt(id_vars=\"student\", value_vars=[\"Math\",\"Sci\"], \n",
    "                                  var_name=\"subject\", value_name=\"score\")\n",
    "print(\"\\nMelted:\\n\", melted)\n"
   ]
  },
  {
   "cell_type": "markdown",
   "id": "10038cbf",
   "metadata": {},
   "source": [
    "Why: Sometimes data is “wide” (lots of columns) but models need “long” format, or you need to pivot for reporting."
   ]
  },
  {
   "cell_type": "markdown",
   "id": "fe509d60",
   "metadata": {},
   "source": [
    "8. GroupBy & Aggregation"
   ]
  },
  {
   "cell_type": "code",
   "execution_count": 39,
   "id": "41b11450",
   "metadata": {},
   "outputs": [
    {
     "name": "stdout",
     "output_type": "stream",
     "text": [
      "Grouping:\n",
      "            Score        \n",
      "            mean max min\n",
      "Class                   \n",
      "X      87.500000  90  85\n",
      "Y      86.333333  92  79\n",
      "\n",
      "Custom group:\n",
      " Class\n",
      "X        [85, 90]\n",
      "Y    [79, 88, 92]\n",
      "Name: Score, dtype: object\n"
     ]
    }
   ],
   "source": [
    "df3 = pd.DataFrame({\n",
    "    \"Class\": [\"X\",\"X\",\"Y\",\"Y\",\"Y\"],\n",
    "    \"Score\": [90, 85, 88, 92, 79]\n",
    "})\n",
    "\n",
    "grouped = df3.groupby(\"Class\").agg({\"Score\": [\"mean\",\"max\",\"min\"]})\n",
    "print(\"Grouping:\\n\", grouped)\n",
    "\n",
    "# More: custom lambda\n",
    "group2 = df3.groupby(\"Class\")[\"Score\"].apply(lambda s: s.sort_values().tolist())\n",
    "print(\"\\nCustom group:\\n\", group2)\n"
   ]
  },
  {
   "cell_type": "markdown",
   "id": "049ce390",
   "metadata": {},
   "source": [
    "Why: To compute statistics per group (e.g. average score per class, sales per region)."
   ]
  },
  {
   "cell_type": "markdown",
   "id": "2f987670",
   "metadata": {},
   "source": [
    "9. Time Series / Date Functionality"
   ]
  },
  {
   "cell_type": "code",
   "execution_count": 40,
   "id": "78ad3d1c",
   "metadata": {},
   "outputs": [
    {
     "name": "stdout",
     "output_type": "stream",
     "text": [
      "            value\n",
      "date             \n",
      "2025-01-01     10\n",
      "2025-01-02     12\n",
      "2025-01-03     11\n",
      "2025-01-04     13\n",
      "2025-01-05     12\n",
      "\n",
      "With rolling mean:\n",
      "             value  rolling\n",
      "date                      \n",
      "2025-01-01     10      NaN\n",
      "2025-01-02     12     11.0\n",
      "2025-01-03     11     11.5\n",
      "2025-01-04     13     12.0\n",
      "2025-01-05     12     12.5\n"
     ]
    }
   ],
   "source": [
    "dates = pd.date_range(\"20250101\", periods=5)\n",
    "df_time = pd.DataFrame({\n",
    "    \"date\": dates,\n",
    "    \"value\": [10, 12, 11, 13, 12]\n",
    "})\n",
    "df_time.set_index(\"date\", inplace=True)\n",
    "print(df_time)\n",
    "\n",
    "# Rolling window (moving average)\n",
    "df_time[\"rolling\"] = df_time[\"value\"].rolling(window=2).mean()\n",
    "print(\"\\nWith rolling mean:\\n\", df_time)\n"
   ]
  },
  {
   "cell_type": "markdown",
   "id": "f84ebbd9",
   "metadata": {},
   "source": [
    "Why: Many datasets have dates (stock prices, sales over time). You’ll need this for forecasting."
   ]
  },
  {
   "cell_type": "markdown",
   "id": "b1ca4cef",
   "metadata": {},
   "source": [
    "10. Performance & Advanced Tricks"
   ]
  },
  {
   "cell_type": "code",
   "execution_count": 41,
   "id": "638f69a2",
   "metadata": {},
   "outputs": [
    {
     "name": "stdout",
     "output_type": "stream",
     "text": [
      "Alice\n",
      "92.0\n",
      "      Name  Age  Score  Passed  Score_adj Age_group\n",
      "0    Alice   25   88.0   False       96.8     Young\n",
      "2  Charlie   35   85.0   False       93.5       Mid\n",
      "      Name  Age  Score  Passed  Score_adj Age_group\n",
      "0    Alice   25   88.0   False       96.8     Young\n",
      "1      Bob   30   92.0    True      101.2     Young\n",
      "2  Charlie   35   85.0   False       93.5       Mid\n",
      "3    David   40    NaN   False        NaN       Mid\n",
      "Age_group\n",
      "Young     2\n",
      "Mid       2\n",
      "Senior    0\n",
      "Name: count, dtype: int64\n"
     ]
    }
   ],
   "source": [
    "# Select by label & by position\n",
    "print(df.loc[0, \"Name\"])\n",
    "print(df.iloc[1, 2])\n",
    "\n",
    "# Sampling\n",
    "print(df.sample(frac=0.5))\n",
    "\n",
    "# Sort by multiple columns\n",
    "print(df.sort_values([\"Age\",\"Score\"], ascending=[True, False]))\n",
    "\n",
    "# Value counts (categorical count)\n",
    "print(df[\"Age_group\"].value_counts())\n",
    "\n",
    "# Convert types\n",
    "df[\"Age\"] = df[\"Age\"].astype(int)\n"
   ]
  },
  {
   "cell_type": "markdown",
   "id": "b2dea489",
   "metadata": {},
   "source": [
    "Why: These let you fine-tune your data access, sampling, sorting, and type control — necessary for efficient pipelines."
   ]
  },
  {
   "cell_type": "markdown",
   "id": "744e0aaa",
   "metadata": {},
   "source": [
    "📦 *Full Hands-On Example: Student Performance Pipeline*"
   ]
  },
  {
   "cell_type": "code",
   "execution_count": 44,
   "id": "1f58046c",
   "metadata": {},
   "outputs": [],
   "source": [
    "import warnings\n",
    "warnings.simplefilter(action='ignore', category=FutureWarning)"
   ]
  },
  {
   "cell_type": "code",
   "execution_count": 45,
   "id": "45d018c5",
   "metadata": {},
   "outputs": [
    {
     "name": "stdout",
     "output_type": "stream",
     "text": [
      "Raw:\n",
      "       Name   Age  Score Gender\n",
      "0    Alice  25.0   88.0      F\n",
      "1      Bob   NaN   92.0      M\n",
      "2  Charlie  35.0    NaN      M\n",
      "3    David  40.0   78.0      M\n",
      "4      Bob  30.0   95.0      M\n",
      "5    Alice  25.0   88.0      F\n",
      "\n",
      "Summary:\n",
      "                Score      \n",
      "                mean count\n",
      "Age_group                 \n",
      "Young      91.500000     2\n",
      "Mid        86.083333     3\n",
      "Senior           NaN     0\n"
     ]
    }
   ],
   "source": [
    "import pandas as pd\n",
    "import numpy as np\n",
    "\n",
    "# raw data\n",
    "data = {\n",
    "  \"Name\": [\"Alice\",\"Bob\",\"Charlie\",\"David\",\"Bob\",\"Alice\"],\n",
    "  \"Age\": [25, np.nan, 35, 40, 30, 25],\n",
    "  \"Score\": [88, 92, np.nan, 78, 95, 88],\n",
    "  \"Gender\": [\"F\",\"M\",\"M\",\"M\",\"M\",\"F\"]\n",
    "}\n",
    "df = pd.DataFrame(data)\n",
    "print(\"Raw:\\n\", df)\n",
    "\n",
    "# Clean\n",
    "df = df.drop_duplicates()\n",
    "df[\"Age\"].fillna(df[\"Age\"].mean(), inplace=True)\n",
    "df[\"Score\"].fillna(df[\"Score\"].mean(), inplace=True)\n",
    "\n",
    "# Feature engineering\n",
    "df[\"Passed\"] = df[\"Score\"] >= 90\n",
    "df[\"Age_group\"] = pd.cut(df[\"Age\"], bins=[0, 30, 40, 100], labels=[\"Young\",\"Mid\",\"Senior\"])\n",
    "\n",
    "# Aggregation\n",
    "summary = df.groupby(\"Age_group\").agg({\"Score\":[\"mean\",\"count\"]})\n",
    "print(\"\\nSummary:\\n\", summary)\n",
    "\n",
    "# Export cleaned data\n",
    "df.to_csv(\"cleaned_students.csv\", index=False)"
   ]
  },
  {
   "cell_type": "markdown",
   "id": "1c6c19d6",
   "metadata": {},
   "source": [
    "### MATPLOTLIB"
   ]
  },
  {
   "cell_type": "markdown",
   "id": "cff4364e",
   "metadata": {},
   "source": [
    "🎨 Why Matplotlib matters (story style)\n",
    "\n",
    "Imagine you run a bakery. You have daily sales numbers for bread, cakes, and muffins, but just looking at a table of numbers doesn’t tell you much. \n",
    "If you plot the data bread sales over time, or cake vs muffin comparison suddenly patterns appear: weekends have spikes, muffins are rising faster, etc. \n",
    "Visualization turns raw data into insight, and that’s exactly what Matplotlib lets you do in Python."
   ]
  },
  {
   "cell_type": "markdown",
   "id": "9bbbff51",
   "metadata": {},
   "source": [
    "1. Line Plot (Trend over time)"
   ]
  },
  {
   "cell_type": "code",
   "execution_count": 47,
   "id": "23d2bcd6",
   "metadata": {},
   "outputs": [
    {
     "data": {
      "image/png": "[encoded data removed]",
      "text/plain": [
       "<Figure size 640x480 with 1 Axes>"
      ]
     },
     "metadata": {},
     "output_type": "display_data"
    }
   ],
   "source": [
    "import matplotlib.pyplot as plt\n",
    "import numpy as np\n",
    "\n",
    "days = np.arange(1, 11)  # days 1 to 10\n",
    "sales = np.array([50, 60, 55, 70, 90, 100, 95, 92, 105, 110])\n",
    "\n",
    "plt.plot(days, sales, marker='o', color='green', linestyle='--')\n",
    "plt.title(\"Bakery Daily Sales Over 10 Days\")\n",
    "plt.xlabel(\"Day\")\n",
    "plt.ylabel(\"Number Sold\")\n",
    "plt.grid(True)\n",
    "plt.show()"
   ]
  },
  {
   "cell_type": "markdown",
   "id": "8ba7bd5f",
   "metadata": {},
   "source": [
    "Why it’s useful: Trends over time are easiest to see with lines (ups, downs, plateaus)."
   ]
  },
  {
   "cell_type": "markdown",
   "id": "2d4afa30",
   "metadata": {},
   "source": [
    "2. Scatter Plot + Regression Line"
   ]
  },
  {
   "cell_type": "code",
   "execution_count": null,
   "id": "6d13bfef",
   "metadata": {},
   "outputs": [
    {
     "data": {
      "image/png": "[encoded data removed]",
      "text/plain": [
       "<Figure size 640x480 with 1 Axes>"
      ]
     },
     "metadata": {},
     "output_type": "display_data"
    }
   ],
   "source": [
    "# Suppose hours studied vs exam score\n",
    "hours = np.array([1,2,3,4,5,6,7])\n",
    "scores = np.array([55, 60, 68, 70, 75, 80, 85])\n",
    "\n",
    "plt.scatter(hours, scores, c='blue')\n",
    "# line of best fit\n",
    "m, b = np.polyfit(hours, scores, 1)\n",
    "plt.plot(hours, m*hours + b, color='red')\n",
    "\n",
    "plt.title(\"Study Hours vs Score\")\n",
    "plt.xlabel(\"Hours\")\n",
    "plt.ylabel(\"Score\")\n",
    "plt.show()"
   ]
  },
  {
   "cell_type": "markdown",
   "id": "9fd8e8cc",
   "metadata": {},
   "source": [
    "Why: Scatter + trend line shows relationship strength (does more study reliably give better scores?). Later we will build more exciting real world examples with ML from scratch."
   ]
  },
  {
   "cell_type": "markdown",
   "id": "a60614bf",
   "metadata": {},
   "source": [
    "3. Bar Chart & Grouped Bars"
   ]
  },
  {
   "cell_type": "code",
   "execution_count": null,
   "id": "dfe1bcd9",
   "metadata": {},
   "outputs": [
    {
     "data": {
      "image/png": "[encoded data removed]",
      "text/plain": [
       "<Figure size 640x480 with 1 Axes>"
      ]
     },
     "metadata": {},
     "output_type": "display_data"
    }
   ],
   "source": [
    "categories = [\"Bread\", \"Cake\", \"Muffin\"]\n",
    "sales1 = [100, 50, 80]  # Day 1\n",
    "sales2 = [120, 60, 90]  # Day 2\n",
    "\n",
    "x = np.arange(len(categories))\n",
    "\n",
    "plt.bar(x - 0.2, sales1, width=0.4, label=\"Day 1\")\n",
    "plt.bar(x + 0.2, sales2, width=0.4, label=\"Day 2\")\n",
    "\n",
    "plt.xticks(x, categories)\n",
    "plt.ylabel(\"Sales\")\n",
    "plt.title(\"Sales Comparison: Day 1 vs Day 2\")\n",
    "plt.legend()\n",
    "plt.show()"
   ]
  },
  {
   "cell_type": "markdown",
   "id": "78ceff27",
   "metadata": {},
   "source": [
    "Why: Compare categories side-by-side — what sells more, bread or cake?"
   ]
  },
  {
   "cell_type": "markdown",
   "id": "15cdddb3",
   "metadata": {},
   "source": [
    "4. Histogram & Distribution"
   ]
  },
  {
   "cell_type": "code",
   "execution_count": null,
   "id": "5bb3baf0",
   "metadata": {},
   "outputs": [
    {
     "data": {
      "image/png": "[encoded data removed]",
      "text/plain": [
       "<Figure size 640x480 with 1 Axes>"
      ]
     },
     "metadata": {},
     "output_type": "display_data"
    }
   ],
   "source": [
    "import numpy as np\n",
    "\n",
    "data = np.random.normal(50, 10, size=200)  # e.g., weights of people\n",
    "plt.hist(data, bins=15, color='skyblue', edgecolor='black')\n",
    "plt.title(\"Weight Distribution\")\n",
    "plt.xlabel(\"Weight\")\n",
    "plt.ylabel(\"Frequency\")\n",
    "plt.show()"
   ]
  },
  {
   "cell_type": "markdown",
   "id": "04943b6e",
   "metadata": {},
   "source": [
    "Why: Understand how your data is spread: where most values cluster, outliers, etc."
   ]
  },
  {
   "cell_type": "markdown",
   "id": "2cb42412",
   "metadata": {},
   "source": [
    "5. Pie Chart (for proportions)"
   ]
  },
  {
   "cell_type": "code",
   "execution_count": null,
   "id": "e20b4222",
   "metadata": {},
   "outputs": [
    {
     "data": {
      "image/png": "[encoded data removed]",
      "text/plain": [
       "<Figure size 640x480 with 1 Axes>"
      ]
     },
     "metadata": {},
     "output_type": "display_data"
    }
   ],
   "source": [
    "labels = [\"Bread\", \"Cake\", \"Muffin\"]\n",
    "sizes = [300, 150, 200]\n",
    "explode = (0.1, 0, 0)  # “explode” the first slice (bread)\n",
    "\n",
    "plt.pie(sizes, labels=labels, autopct='%1.1f%%', explode=explode, shadow=True)\n",
    "plt.title(\"Proportion of Baked Items Sold\")\n",
    "plt.show()"
   ]
  },
  {
   "cell_type": "markdown",
   "id": "b55c57d9",
   "metadata": {},
   "source": [
    "Why: Visualizing share of total (e.g., what portion is cake vs bread)."
   ]
  },
  {
   "cell_type": "markdown",
   "id": "2b915c7c",
   "metadata": {},
   "source": [
    "6. Subplots (Multiple visualizations in one canvas)"
   ]
  },
  {
   "cell_type": "code",
   "execution_count": null,
   "id": "250c2c9d",
   "metadata": {},
   "outputs": [
    {
     "data": {
      "image/png": "[encoded data removed]",
      "text/plain": [
       "<Figure size 1000x800 with 4 Axes>"
      ]
     },
     "metadata": {},
     "output_type": "display_data"
    }
   ],
   "source": [
    "fig, axs = plt.subplots(2, 2, figsize=(10,8))\n",
    "\n",
    "# Line on top-left\n",
    "axs[0,0].plot(days, sales, 'g-o')\n",
    "axs[0,0].set_title(\"Sales Trend\")\n",
    "\n",
    "# Histogram top-right\n",
    "axs[0,1].hist(data, bins=10, color='orange')\n",
    "axs[0,1].set_title(\"Weight Distribution\")\n",
    "\n",
    "# Pie bottom-left\n",
    "axs[1,0].pie(sizes, labels=labels, autopct='%1.1f%%')\n",
    "axs[1,0].set_title(\"Sales Share\")\n",
    "\n",
    "# Scatter bottom-right\n",
    "axs[1,1].scatter(hours, scores, c='purple')\n",
    "axs[1,1].plot(hours, m*hours + b, color='red')\n",
    "axs[1,1].set_title(\"Study vs Score\")\n",
    "\n",
    "plt.tight_layout()\n",
    "plt.show()"
   ]
  },
  {
   "cell_type": "markdown",
   "id": "032a8b4f",
   "metadata": {},
   "source": [
    "Why: You can show many views at once — overview + details side by side."
   ]
  },
  {
   "cell_type": "markdown",
   "id": "6f6798e7",
   "metadata": {},
   "source": [
    "7. Heatmap / Matrix Visualization"
   ]
  },
  {
   "cell_type": "code",
   "execution_count": null,
   "id": "abbdc2f1",
   "metadata": {},
   "outputs": [
    {
     "data": {
      "image/png": "[encoded data removed]",
      "text/plain": [
       "<Figure size 640x480 with 2 Axes>"
      ]
     },
     "metadata": {},
     "output_type": "display_data"
    }
   ],
   "source": [
    "import numpy as np\n",
    "matrix = np.random.randint(0, 100, (5,5))\n",
    "plt.imshow(matrix, cmap='viridis', interpolation='nearest')\n",
    "plt.colorbar(label=\"Value\")\n",
    "plt.title(\"Random Matrix Heatmap\")\n",
    "plt.show()"
   ]
  },
  {
   "cell_type": "markdown",
   "id": "db9a592b",
   "metadata": {},
   "source": [
    "Why: Visualize 2D relationships, correlation matrices, confusion matrices."
   ]
  },
  {
   "cell_type": "markdown",
   "id": "bca408ce",
   "metadata": {},
   "source": [
    "8. Fill Between / Area Shading"
   ]
  },
  {
   "cell_type": "code",
   "execution_count": null,
   "id": "18c93d71",
   "metadata": {},
   "outputs": [
    {
     "name": "stderr",
     "output_type": "stream",
     "text": [
      "d:\\git\\GenAI\\genaienv\\Lib\\site-packages\\IPython\\core\\pylabtools.py:170: UserWarning: Creating legend with loc=\"best\" can be slow with large amounts of data.\n",
      "  fig.canvas.print_figure(bytes_io, **kw)\n"
     ]
    },
    {
     "data": {
      "image/png": "[encoded data removed]",
      "text/plain": [
       "<Figure size 640x480 with 1 Axes>"
      ]
     },
     "metadata": {},
     "output_type": "display_data"
    }
   ],
   "source": [
    "x = np.linspace(0, 10, 100)\n",
    "y1 = np.sin(x)\n",
    "y2 = np.cos(x)\n",
    "\n",
    "plt.plot(x, y1, label=\"sin(x)\")\n",
    "plt.plot(x, y2, label=\"cos(x)\")\n",
    "plt.fill_between(x, y1, y2, where=(y2 > y1), color='lightgreen', alpha=0.5)\n",
    "plt.legend()\n",
    "plt.title(\"Shade where cos(x) > sin(x)\")\n",
    "plt.show()"
   ]
  },
  {
   "cell_type": "markdown",
   "id": "a2781303",
   "metadata": {},
   "source": [
    "Why: Highlight regions between curves — useful in demonstrating ranges, thresholds."
   ]
  },
  {
   "cell_type": "markdown",
   "id": "79de4b89",
   "metadata": {},
   "source": [
    "9. Error Bars & Confidence Intervals"
   ]
  },
  {
   "cell_type": "code",
   "execution_count": 55,
   "id": "226d69a3",
   "metadata": {},
   "outputs": [
    {
     "data": {
      "image/png": "[encoded data removed]",
      "text/plain": [
       "<Figure size 640x480 with 1 Axes>"
      ]
     },
     "metadata": {},
     "output_type": "display_data"
    }
   ],
   "source": [
    "x = np.arange(1,6)\n",
    "y = np.array([10,12,15,14,18])\n",
    "yerr = np.array([1, 1.5, 1.2, 1.4, 1.0])\n",
    "\n",
    "plt.errorbar(x, y, yerr=yerr, fmt='-o', ecolor='red', capsize=5)\n",
    "plt.title(\"Sales with Error Margin\")\n",
    "plt.xlabel(\"Day\")\n",
    "plt.ylabel(\"Sales\")\n",
    "plt.show()"
   ]
  },
  {
   "cell_type": "markdown",
   "id": "60fc6e90",
   "metadata": {},
   "source": [
    "Why: Show uncertainty/error in measurements — critical for scientific and business data."
   ]
  },
  {
   "cell_type": "markdown",
   "id": "dfbff1dd",
   "metadata": {},
   "source": [
    "10. Annotations, Text & Custom Markers"
   ]
  },
  {
   "cell_type": "code",
   "execution_count": 56,
   "id": "fb6e492c",
   "metadata": {},
   "outputs": [
    {
     "data": {
      "image/png": "[encoded data removed]",
      "text/plain": [
       "<Figure size 640x480 with 1 Axes>"
      ]
     },
     "metadata": {},
     "output_type": "display_data"
    }
   ],
   "source": [
    "plt.plot(days, sales, marker='o', color='blue')\n",
    "peak_day = days[np.argmax(sales)]\n",
    "peak_val = sales.max()\n",
    "\n",
    "plt.annotate(\"Peak\", xy=(peak_day, peak_val), xytext=(peak_day+1, peak_val-10),\n",
    "             arrowprops=dict(facecolor='black', arrowstyle=\"->\"))\n",
    "plt.title(\"Sales with Peak Annotation\")\n",
    "plt.xlabel(\"Day\")\n",
    "plt.ylabel(\"Sales\")\n",
    "plt.show()"
   ]
  },
  {
   "cell_type": "markdown",
   "id": "943645c8",
   "metadata": {},
   "source": [
    "Why: Highlight key points — e.g. busiest day, highest sales, anomalies."
   ]
  },
  {
   "cell_type": "markdown",
   "id": "c4dff95c",
   "metadata": {},
   "source": [
    "🧪 Advanced / Fun Visualizations\n",
    "\n",
    "Stackplot (stacked areas)\n",
    "\n",
    "Polar plots (circular)\n",
    "\n",
    "3D surface / wireframe (via mpl_toolkits.mplot3d)\n",
    "\n",
    "Animation (plot evolving over time)\n",
    "\n",
    "Custom colormaps & gradients\n",
    "\n",
    "Hexbin plot (density in scatter)\n",
    "\n",
    "Violin / Box plot (with Matplotlib base, or overlay)"
   ]
  },
  {
   "cell_type": "markdown",
   "id": "cb33b501",
   "metadata": {},
   "source": []
  }
 ],
 "metadata": {
  "kernelspec": {
   "display_name": "genaienv",
   "language": "python",
   "name": "python3"
  },
  "language_info": {
   "codemirror_mode": {
    "name": "ipython",
    "version": 3
   },
   "file_extension": ".py",
   "mimetype": "text/x-python",
   "name": "python",
   "nbconvert_exporter": "python",
   "pygments_lexer": "ipython3",
   "version": "3.13.3"
  }
 },
 "nbformat": 4,
 "nbformat_minor": 5
}
