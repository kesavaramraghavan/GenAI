{
 "cells": [
  {
   "cell_type": "markdown",
   "id": "920482b5",
   "metadata": {},
   "source": [
    "Select the Kernel with the virtual environment you created and run below command to check the python version"
   ]
  },
  {
   "cell_type": "code",
   "execution_count": 1,
   "id": "5813d90f",
   "metadata": {},
   "outputs": [
    {
     "name": "stdout",
     "output_type": "stream",
     "text": [
      "3.13.3 (tags/v3.13.3:6280bb5, Apr  8 2025, 14:47:33) [MSC v.1943 64 bit (AMD64)]\n"
     ]
    }
   ],
   "source": [
    "import sys\n",
    "print(sys.version)"
   ]
  },
  {
   "cell_type": "markdown",
   "id": "205366c1",
   "metadata": {},
   "source": [
    "To check if the installed libraries working"
   ]
  },
  {
   "cell_type": "code",
   "execution_count": 2,
   "id": "c5b96649",
   "metadata": {},
   "outputs": [],
   "source": [
    "import numpy as np, pandas as pd, matplotlib.pyplot as plt\n",
    "from sklearn.linear_model import LinearRegression"
   ]
  },
  {
   "cell_type": "markdown",
   "id": "4aee648d",
   "metadata": {},
   "source": [
    "Dot Product from Linear Algebra"
   ]
  },
  {
   "cell_type": "code",
   "execution_count": 3,
   "id": "02db72ed",
   "metadata": {},
   "outputs": [
    {
     "name": "stdout",
     "output_type": "stream",
     "text": [
      "Dot product: 32\n"
     ]
    }
   ],
   "source": [
    "import numpy as np\n",
    "a = np.array([1,2,3])\n",
    "b = np.array([4,5,6])\n",
    "print(\"Dot product:\", a.dot(b))"
   ]
  },
  {
   "cell_type": "markdown",
   "id": "8cd6a85c",
   "metadata": {},
   "source": [
    "Precision & Recall"
   ]
  },
  {
   "cell_type": "code",
   "execution_count": 4,
   "id": "fd6233cc",
   "metadata": {},
   "outputs": [
    {
     "name": "stdout",
     "output_type": "stream",
     "text": [
      "Precision: 0.6666666666666666\n",
      "Recall: 0.6666666666666666\n"
     ]
    }
   ],
   "source": [
    "from sklearn.metrics import precision_score, recall_score\n",
    "y_true = [1,0,1,1,0]\n",
    "y_pred = [1,0,0,1,1]\n",
    "print(\"Precision:\", precision_score(y_true,y_pred))\n",
    "print(\"Recall:\", recall_score(y_true,y_pred))\n"
   ]
  },
  {
   "cell_type": "markdown",
   "id": "7e88c96a",
   "metadata": {},
   "source": [
    "Quick Test for Huggingface"
   ]
  },
  {
   "cell_type": "code",
   "execution_count": 7,
   "id": "e4c3d635",
   "metadata": {},
   "outputs": [
    {
     "name": "stderr",
     "output_type": "stream",
     "text": [
      "Device set to use cpu\n",
      "Truncation was not explicitly activated but `max_length` is provided a specific value, please use `truncation=True` to explicitly truncate examples to max length. Defaulting to 'longest_first' truncation strategy. If you encode pairs of sequences (GLUE-style) with the tokenizer you can select this strategy more precisely by providing a specific strategy to `truncation`.\n",
      "Setting `pad_token_id` to `eos_token_id`:50256 for open-end generation.\n",
      "Both `max_new_tokens` (=256) and `max_length`(=30) seem to have been set. `max_new_tokens` will take precedence. Please refer to the documentation for more information. (https://huggingface.co/docs/transformers/main/en/main_classes/text_generation)\n"
     ]
    }
   ],
   "source": [
    "from transformers import pipeline\n",
    "gen = pipeline(\"text-generation\", model=\"gpt2\")\n",
    "result = (gen(\"AI will transform\", max_length=30))"
   ]
  },
  {
   "cell_type": "code",
   "execution_count": 8,
   "id": "5c535ebc",
   "metadata": {},
   "outputs": [
    {
     "name": "stdout",
     "output_type": "stream",
     "text": [
      "AI will transform the way the market works.\n",
      "\n",
      "\"The goal is to change the way bitcoin is used within a given ecosystem,\" said Kari. \"We see this as an opportunity to increase the adoption of bitcoin and encourage more use.\"\n",
      "\n",
      "For now, bitcoin is not the main platform for the crypto-currency, but it is a good alternative to a lot of the traditional currencies.\n",
      "\n",
      "While Bitcoin is still a niche currency with a long history of being used as a digital currency, the Bitcoin Foundation has set several goals in the past.\n",
      "\n",
      "\"To achieve a 100 percent adoption rate, we are going to focus on two goals: to create a digital currency of value that is more accessible, easier to use, and easily accessible to people of all ages and income levels,\" said Kari. \"The other goal is to create a technology that is more accessible to people of all ages and income levels.\"\n",
      "\n",
      "\"People will need to be able to use the Bitcoin technology in a way that feels as if they are in a safe, secure, and secure environment. We believe that this is possible through our ability to create a platform that allows people to use the Bitcoin technology in a way that feels as if they are in a safe, secure, and secure environment,\"\n"
     ]
    }
   ],
   "source": [
    "print(result[0]['generated_text'])"
   ]
  },
  {
   "cell_type": "code",
   "execution_count": null,
   "id": "ffad4f24",
   "metadata": {},
   "outputs": [],
   "source": []
  }
 ],
 "metadata": {
  "kernelspec": {
   "display_name": "genaienv",
   "language": "python",
   "name": "python3"
  },
  "language_info": {
   "codemirror_mode": {
    "name": "ipython",
    "version": 3
   },
   "file_extension": ".py",
   "mimetype": "text/x-python",
   "name": "python",
   "nbconvert_exporter": "python",
   "pygments_lexer": "ipython3",
   "version": "3.13.3"
  }
 },
 "nbformat": 4,
 "nbformat_minor": 5
}
